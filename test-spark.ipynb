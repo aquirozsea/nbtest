{
 "cells": [
  {
   "cell_type": "code",
   "execution_count": 1,
   "metadata": {
    "collapsed": true
   },
   "outputs": [],
   "source": [
    "from athena.pyspark_utils import SparkSessionManager"
   ]
  },
  {
   "cell_type": "code",
   "execution_count": 3,
   "metadata": {
    "collapsed": false
   },
   "outputs": [],
   "source": [
    "spark = SparkSessionManager.initialize_session(conf_dict={})"
   ]
  },
  {
   "cell_type": "code",
   "execution_count": 4,
   "metadata": {
    "collapsed": false
   },
   "outputs": [
    {
     "data": {
      "text/plain": [
       "DataFrame[1: int]"
      ]
     },
     "execution_count": 4,
     "metadata": {},
     "output_type": "execute_result"
    }
   ],
   "source": [
    "result = spark.sql('select 1')"
   ]
  },
  {
   "cell_type": "code",
   "execution_count": 5,
   "metadata": {
    "collapsed": false
   },
   "outputs": [
    {
     "name": "stdout",
     "output_type": "stream",
     "text": [
      "+---+\n",
      "|  1|\n",
      "+---+\n",
      "|  1|\n",
      "+---+\n",
      "\n"
     ]
    }
   ],
   "source": [
    "result.show()"
   ]
  },
  {
   "cell_type": "code",
   "execution_count": null,
   "metadata": {
    "collapsed": true
   },
   "outputs": [],
   "source": []
  }
 ],
 "metadata": {
  "athena": {
   "image_tag": "python2",
   "name": "tink-test-spark",
   "owner": "aquirozhernandez",
   "service_account": "sa-ai",
   "servicedef": {
    "configs": {
     "/config/hadoop": "hadoop",
     "/config/hdfscli": "hdfscli",
     "/config/java": "java",
     "/config/k8s": "k8s",
     "/config/krb5": "krb5",
     "/config/model": "model-tinker",
     "/config/rest": "rest",
     "/config/spark": "spark"
    },
    "cpu_limit": 1,
    "cpu_reservation": 0.1,
    "memory_limit_gb": 6,
    "memory_reservation_gb": 3,
    "ports": {
     "blockmgr": 8000,
     "driver": 8010,
     "xgboost-tracker": 8020
    },
    "secrets": {
     "/private/krb5cc": "krb5cc-athrsat"
    },
    "services": [
     "model-upload",
     "nb-port-helper",
     "rest"
    ],
    "sidecars": {
     "/opt/apache-hive": "docker.apple.com/aml/sidecar-apache-hive-2.1.1-aml-58:v1.0.4",
     "/opt/athena-hive-runtime": "docker.apple.com/aml/sidecar-athena-hive-runtime:v2.93.6.5",
     "/opt/graphframes": "docker.apple.com/aml/athena-graphframes-0.6.0-spark-2.3:v1.3",
     "/opt/hadoop": "docker.apple.com/aml/sidecar-hadoop-2.6.0-cdh5.8.2:v1.0.13",
     "/opt/mleap": "docker.apple.com/aml/athena-mleap:mleap",
     "/opt/spark": "docker.apple.com/aml/sidecar-spark-2.3.1-bin-hadoop2.6:v1.0.7",
     "/opt/xgboost": "docker.apple.com/aml/sidecar-athena-xgboost-0.0.72:v1.0.1"
    },
    "volumes": [
     {
      "name": "opt",
      "path": "/opt/",
      "voltype": "tmp"
     },
     {
      "name": "notebook",
      "path": "/notebook/",
      "voltype": "tmp"
     },
     {
      "name": "shared-tmp",
      "path": "/tmp/",
      "voltype": "tmp"
     }
    ]
   },
   "servicedef_version": 30004
  },
  "athena_version": 10001,
  "kernelspec": {
   "display_name": "Python 2",
   "language": "python",
   "name": "python2"
  },
  "language_info": {
   "codemirror_mode": {
    "name": "ipython",
    "version": 2
   },
   "file_extension": ".py",
   "mimetype": "text/x-python",
   "name": "python",
   "nbconvert_exporter": "python",
   "pygments_lexer": "ipython2",
   "version": "2.7.14"
  }
 },
 "nbformat": 4,
 "nbformat_minor": 0
}
